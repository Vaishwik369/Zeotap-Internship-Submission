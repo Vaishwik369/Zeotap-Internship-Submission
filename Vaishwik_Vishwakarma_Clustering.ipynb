{
 "cells": [
  {
   "cell_type": "code",
   "execution_count": null,
   "id": "f8119425-dcd9-409b-9c19-9a62260e43ac",
   "metadata": {},
   "outputs": [],
   "source": [
    "from sklearn.preprocessing import LabelEncoder\n",
    "from sklearn.metrics.pairwise import cosine_similarity\n",
    "import numpy as np\n",
    "\n",
    "# Encode categorical variables\n",
    "le_region = LabelEncoder()\n",
    "customers_df[\"RegionEncoded\"] = le_region.fit_transform(customers_df[\"Region\"])\n",
    "\n",
    "# Merge transactions with customer data\n",
    "customer_transactions = transactions_df.merge(customers_df, on=\"CustomerID\", how=\"left\")\n",
    "\n",
    "# Aggregate transaction features per customer\n",
    "customer_features = customer_transactions.groupby(\"CustomerID\").agg(\n",
    "    total_spent=(\"TotalValue\", \"sum\"),\n",
    "    total_transactions=(\"TransactionID\", \"count\"),\n",
    "    avg_transaction_value=(\"TotalValue\", \"mean\"),\n",
    "    region=(\"RegionEncoded\", \"first\")\n",
    ").reset_index()\n",
    "\n",
    "# Normalize numerical features\n",
    "customer_features_norm = customer_features.copy()\n",
    "customer_features_norm[[\"total_spent\", \"total_transactions\", \"avg_transaction_value\"]] = \\\n",
    "    (customer_features_norm[[\"total_spent\", \"total_transactions\", \"avg_transaction_value\"]] - \n",
    "     customer_features_norm[[\"total_spent\", \"total_transactions\", \"avg_transaction_value\"]].min()) / \\\n",
    "    (customer_features_norm[[\"total_spent\", \"total_transactions\", \"avg_transaction_value\"]].max() - \n",
    "     customer_features_norm[[\"total_spent\", \"total_transactions\", \"avg_transaction_value\"]].min())\n",
    "\n",
    "# Compute similarity matrix\n",
    "customer_similarity_matrix = cosine_similarity(\n",
    "    customer_features_norm[[\"total_spent\", \"total_transactions\", \"avg_transaction_value\", \"region\"]]\n",
    ")\n",
    "\n",
    "# Create a mapping of customer similarity scores\n",
    "customer_ids = customer_features[\"CustomerID\"].tolist()\n",
    "lookalike_dict = {}\n",
    "\n",
    "for idx, customer_id in enumerate(customer_ids[:20]):  # First 20 customers\n",
    "    similarity_scores = list(enumerate(customer_similarity_matrix[idx]))\n",
    "    similarity_scores = sorted(similarity_scores, key=lambda x: x[1], reverse=True)\n",
    "    top_3_lookalikes = [(customer_ids[i], score) for i, score in similarity_scores[1:4]]  # Top 3 excluding itself\n",
    "    lookalike_dict[customer_id] = top_3_lookalikes\n",
    "\n",
    "# Convert lookalike dictionary to DataFrame\n",
    "lookalike_df = pd.DataFrame([{\"CustomerID\": cust, \"Lookalikes\": str(lookalikes)} for cust, lookalikes in lookalike_dict.items()])\n",
    "\n",
    "# Save the Lookalike model results\n",
    "lookalike_df.to_csv(\"/mnt/data/Vaishwik_Vishwakarma_Lookalike.csv\", index=False)\n",
    "\n",
    "# Display the Lookalike results\n",
    "import ace_tools as tools\n",
    "tools.display_dataframe_to_user(name=\"Lookalike Model Results\", dataframe=lookalike_df)\n"
   ]
  }
 ],
 "metadata": {
  "kernelspec": {
   "display_name": "Python 3 (ipykernel)",
   "language": "python",
   "name": "python3"
  },
  "language_info": {
   "codemirror_mode": {
    "name": "ipython",
    "version": 3
   },
   "file_extension": ".py",
   "mimetype": "text/x-python",
   "name": "python",
   "nbconvert_exporter": "python",
   "pygments_lexer": "ipython3",
   "version": "3.10.9"
  }
 },
 "nbformat": 4,
 "nbformat_minor": 5
}
